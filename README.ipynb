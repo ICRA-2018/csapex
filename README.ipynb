{
 "cells": [
  {
   "cell_type": "markdown",
   "metadata": {},
   "source": [
    "# CS::APEX (Algorithm Prototyper and EXperimentor for Cognitive Systems)\n",
    "\n",
    "CS::APEX is a framework based on synchronous dataflow and event-based message passing that\n",
    "aims to speed up prototyping of new robotic algorithms using visual programming aspects.\n",
    "\n",
    "Example workflow: (click for better quality)\n",
    "\n",
    "[![Graph Construction Video](https://media.giphy.com/media/aFtp2izVp2xMzLAqC2/giphy.gif)](https://youtu.be/sNkHnQhNXuU)\n",
    "\n",
    "\n",
    "## Dataflow Graph and Core Features\n",
    "\n",
    "Calculations are represented by a nodes in a directed graph with data flowing on\n",
    "the directed edges.This execution graph is manipulated using a simple graphical user\n",
    "interface that allows spawning and deleting nodes, adding and removing edges and\n",
    "visualizating data in the stream. To speed up the prototyping process,\n",
    "other features like undo/redo mechanisms and profiling are implemented as well.\n",
    "Finally there exists an easy to use parameter system that generates UI controls\n",
    "for each block and allows parameter tuning and optimization.\n",
    "\n",
    "\n",
    "## Functionality via Plug-ins\n",
    "\n",
    "The framework itself does not provide any predefined computation nodes and does\n",
    "not depend on specific message definitions or node types.\n",
    "These details are instead implemented in plug-in libraries that extend\n",
    "the functionality of the whole system.\n",
    "\n",
    "\n",
    "## Application to Robotics\n",
    "\n",
    "The framework is targeted toward use in robotics and is fully compatible with\n",
    "[ROS](http://wiki.ros.org/). Configurations generated using the GUI can\n",
    "directly be deployed on any ROS-based robotic system.\n",
    "\n",
    "\n",
    "## Tutorials and more Information\n",
    "\n",
    "For more information, please refer to the Wiki at\n",
    "    https://github.com/cogsys-tuebingen/csapex/wiki\n",
    "\n",
    "the official website at\n",
    "    http://www.ra.cs.uni-tuebingen.de/forschung/apex/\n",
    "\n",
    "or contact the maintainers via email.\n",
    "\n",
    "\n",
    "## Dependencies\n",
    "\n",
    "We rely on the [catkin](http://wiki.ros.org/catkin) build system\n",
    "developed in the [ROS](http://wiki.ros.org/) ecosystem. The core framework\n",
    "is independent of ROS, however.\n",
    "\n",
    "Required for a build are:\n",
    "- Linux system (tested with Ubuntu)\n",
    "- C++11 compatible compiler (g++, clang++)\n",
    "- Qt5 (on Ubuntu: qt5-default libqt5svg5-dev)\n",
    "- libraries:\n",
    "    - boost (program_options, filesystem, system, regex)\n",
    "    - [classloader](https://github.com/ros/class_loader)\n",
    "    - TinyXML (on Ubuntu: libtinyxml-dev)\n",
    "    - yaml-cpp (on Ubuntu: libyaml-cpp-dev)\n",
    "\n",
    "\n",
    "These dependencies can be installed via rosdep (see below.)\n",
    "\n",
    "\n",
    "## Basic Installation\n",
    "\n",
    "To get the cs::APEX framework and a set of core plugins, perform the following:"
   ]
  },
  {
   "cell_type": "code",
   "execution_count": null,
   "metadata": {},
   "outputs": [],
   "source": [
    "cd ~\n",
    "mkdir -p ws/csapex/src\n",
    "cd ws/csapex/src\n",
    "\n",
    "git clone https://github.com/cogsys-tuebingen/csapex.git\n",
    "\n",
    "cd csapex/plugins\n",
    "git clone https://github.com/cogsys-tuebingen/csapex_core_plugins.git\n",
    "\n",
    "cd ../..\n",
    "mkdir libs\n",
    "cd libs\n",
    "\n",
    "git clone https://github.com/cogsys-tuebingen/cslibs_vision.git\n",
    "git clone https://github.com/cogsys-tuebingen/cslibs_laser_processing.git\n",
    "git clone https://github.com/cogsys-tuebingen/cslibs_arff.git\n",
    "git clone https://github.com/cogsys-tuebingen/cslibs_indexed_storage.git\n",
    "\n",
    "cd ../..\n",
    "rosdep install -y -r -i --from-paths src\n",
    "catkin_make\n"
   ]
  },
  {
   "cell_type": "markdown",
   "metadata": {},
   "source": [
    "## Creating Documenation\n",
    "\n",
    "To create the documentation, run"
   ]
  },
  {
   "cell_type": "code",
   "execution_count": null,
   "metadata": {},
   "outputs": [],
   "source": [
    "doxygen doc/Doxyfile"
   ]
  },
  {
   "cell_type": "markdown",
   "metadata": {},
   "source": [
    "This will generate the documentation at"
   ]
  },
  {
   "cell_type": "code",
   "execution_count": null,
   "metadata": {},
   "outputs": [],
   "source": [
    "doc/html/index.html\n"
   ]
  },
  {
   "cell_type": "markdown",
   "metadata": {},
   "source": [
    "## Contributions\n",
    "\n",
    "All contributions are welcome, please refer to the CONTRIBUTING.md file."
   ]
  }
 ],

 "metadata": {
  "kernelspec": {
   "display_name": "Bash",
   "language": "bash",
   "name": "bash"
  },
  "language_info": {
   "codemirror_mode": "shell",
   "file_extension": ".sh",
   "mimetype": "text/x-sh",
   "name": "bash"
  }
 },
 "nbformat": 4,
 "nbformat_minor": 2
}
